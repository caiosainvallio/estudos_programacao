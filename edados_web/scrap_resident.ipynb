{
 "cells": [
  {
   "cell_type": "code",
   "execution_count": 1,
   "metadata": {},
   "outputs": [],
   "source": [
    "import requests # requisições web\n",
    "import pandas as pd\n",
    "from bs4 import BeautifulSoup # parser de html"
   ]
  },
  {
   "cell_type": "code",
   "execution_count": 46,
   "metadata": {},
   "outputs": [],
   "source": [
    "def obtem_aparicoes(url):\n",
    "    html = requests.get(url)\n",
    "    bs_obj = BeautifulSoup(html.text, 'lxml')\n",
    "    h4 = bs_obj.find({'h4':'Aparições em títulos da série:'})\n",
    "    aparicoes = [i.text for i in h4.find_next().find_all('a')]\n",
    "    return aparicoes\n",
    "\n",
    "def obtem_personagem(url):\n",
    "    aparicoes = obtem_aparicoes(url)\n",
    "    nome = [url.split('/')[-2]] * len(aparicoes)\n",
    "    return pd.DataFrame({'Nome': nome, 'aparicao':aparicoes})\n",
    "\n",
    "def get_all_links(url):\n",
    "    html = requests.get(url)\n",
    "    bs_obj = BeautifulSoup(html.text, 'lxml')\n",
    "    links = []\n",
    "    h3 = bs_obj.find_all('h3', style='padding-left: 30px;')\n",
    "    for i in h3:\n",
    "        links += [j['href'] for j in i.find_next().find_all('a')]\n",
    "    return links"
   ]
  },
  {
   "cell_type": "code",
   "execution_count": null,
   "metadata": {},
   "outputs": [],
   "source": [
    "url = \"http://www.residentevildatabase.com/personagens/\"\n",
    "links = get_all_links(url)"
   ]
  },
  {
   "cell_type": "code",
   "execution_count": 57,
   "metadata": {},
   "outputs": [],
   "source": [
    "df = pd.DataFrame()\n",
    "for l in links:\n",
    "    df = pd.concat([df, obtem_personagem(l)])"
   ]
  },
  {
   "cell_type": "code",
   "execution_count": 60,
   "metadata": {},
   "outputs": [
    {
     "data": {
      "text/plain": [
       "Biohazard / Resident Evil: The Darkside Chronicles                     22\n",
       "Biohazard / Resident Evil: Operation Raccoon City                      21\n",
       "Biohazard / Resident Evil 5                                            15\n",
       "Biohazard / Resident Evil Remake                                       14\n",
       "Biohazard / Resident Evil 7                                            13\n",
       "Biohazard / Resident Evil 2                                            13\n",
       "Biohazard / Resident Evil 0                                            13\n",
       "Biohazard / Resident Evil 6                                            13\n",
       "Biohazard / Resident Evil: The Umbrella Chronicles                     13\n",
       "Biohazard / Resident Evil: Revelations                                 12\n",
       "Biohazard RE:2 / Resident Evil 2                                       12\n",
       "Biohazard / Resident Evil 4                                            11\n",
       "Biohazard / Resident Evil Revelations 2                                11\n",
       "Biohazard / Resident Evil: Deadly Silence                              11\n",
       "Biohazard / Resident Evil Clássico                                     11\n",
       "Biohazard / Resident Evil CODE: Veronica                               10\n",
       "Biohazard / Resident Evil: Degeneration                                 9\n",
       "Biohazard 3: The Last Escape / Resident Evil 3: Nemesis                 9\n",
       "Biohazard / Resident Evil Outbreak File #2                              8\n",
       "Biohazard / Resident Evil: The Mercenaries 3D                           8\n",
       "Biohazard / Resident Evil: Damnation                                    7\n",
       "Biohazard / Resident Evil Outbreak                                      6\n",
       "Biohazard Gun Survivor / Resident Evil Survivor                         5\n",
       "Biohazard Gun Survivor 4: Heroes Never Die / Resident Evil Dead Aim     3\n",
       "Biohazard The Stage                                                     3\n",
       "Biohazard / Resident Evil Gaiden                                        2\n",
       "Biohazard Gun Survivor 2 / Resident Evil Survivor 2                     2\n",
       "Biohazard / Resident Evil Vendetta                                      2\n",
       "Biohazard / Resident Evil: Outbreak                                     1\n",
       "Biohazard / Resident Evil: Vendetta                                     1\n",
       "Name: aparicao, dtype: int64"
      ]
     },
     "execution_count": 60,
     "metadata": {},
     "output_type": "execute_result"
    }
   ],
   "source": [
    "df.aparicao.value_counts()"
   ]
  },
  {
   "cell_type": "code",
   "execution_count": null,
   "metadata": {},
   "outputs": [],
   "source": []
  }
 ],
 "metadata": {
  "kernelspec": {
   "display_name": "Python 3",
   "language": "python",
   "name": "python3"
  },
  "language_info": {
   "codemirror_mode": {
    "name": "ipython",
    "version": 3
   },
   "file_extension": ".py",
   "mimetype": "text/x-python",
   "name": "python",
   "nbconvert_exporter": "python",
   "pygments_lexer": "ipython3",
   "version": "3.7.6"
  }
 },
 "nbformat": 4,
 "nbformat_minor": 4
}
